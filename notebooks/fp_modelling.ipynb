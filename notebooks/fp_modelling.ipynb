{
 "cells": [
  {
   "cell_type": "code",
   "execution_count": null,
   "metadata": {},
   "outputs": [],
   "source": [
    "import matplotlib.pyplot as plt\n",
    "import pandas as pd\n",
    "import seaborn as sns\n",
    "\n",
    "fp_data = pd.read_csv(\"C:/Projetos/fp-neural-net/data/training_data.csv\")\n",
    "\n",
    "# Fill NaN values and remove duplicate ones, if exists\n",
    "fp_data.fillna(0)\n",
    "fp_data.drop_duplicates()\n",
    "\n",
    "# Calculate Spearman correlation\n",
    "selected_columns = [\n",
    "    \"FP\",\n",
    "    \"MM\",\n",
    "    \"lnPvap\",\n",
    "    \"NC\",\n",
    "    \"C=C\",\n",
    "    \"s\",\n",
    "]  # The method column need to be desconsidered, since it related to the FP experimental method\n",
    "filtered_data = fp_data[selected_columns]\n",
    "spearman_corr = filtered_data.corr(method=\"spearman\")\n",
    "\n",
    "# Create heatmap\n",
    "plt.figure(figsize=(10, 8))\n",
    "sns.heatmap(spearman_corr, annot=True, cmap=\"coolwarm\", center=0)\n",
    "plt.title(\"Spearman Correlation Heatmap\")\n",
    "plt.show()"
   ]
  },
  {
   "cell_type": "code",
   "execution_count": null,
   "metadata": {},
   "outputs": [],
   "source": [
    "import numpy as np\n",
    "import os\n",
    "import sys\n",
    "import uuid\n",
    "\n",
    "from sklearn.model_selection import KFold\n",
    "\n",
    "sys.path.append(os.path.abspath(\"..\"))\n",
    "\n",
    "from src.model_training import NeuralNet\n",
    "\n",
    "# Remove NC, C=C and s\n",
    "fp_data = fp_data.drop(columns=[\"NC\", \"C=C\", \"s\"])\n",
    "\n",
    "# Split features and label\n",
    "features = fp_data.iloc[:, 1:].values\n",
    "label = fp_data.iloc[:, 0].values\n",
    "\n",
    "# Train model using a cross-validation loop\n",
    "mae_list = []\n",
    "rmse_list = []\n",
    "models_rmse = {}\n",
    "\n",
    "kf = KFold(n_splits=5, random_state=42, shuffle=True)\n",
    "for train_idx, test_idx in kf.split(features):\n",
    "    X_train, X_test = features[train_idx], features[test_idx]\n",
    "    y_train, y_test = label[train_idx], label[test_idx]\n",
    "\n",
    "    model_id = uuid.uuid4()\n",
    "\n",
    "    nn_exec = NeuralNet(X_train, X_test, y_train, y_test, model_id)\n",
    "    mae, mse = nn_exec.execute_training_steps()\n",
    "\n",
    "    mae_list.append(mae)\n",
    "    rmse_list.append(np.sqrt(mse))\n",
    "    models_rmse[model_id] = np.sqrt(mse)\n",
    "\n",
    "print(f\"Average MAE = {np.mean(mae_list)}\")\n",
    "print(f\"Average RMSE = {np.mean(rmse_list)}\")"
   ]
  },
  {
   "cell_type": "markdown",
   "metadata": {},
   "source": [
    "Butanol + FAEE evaluation"
   ]
  },
  {
   "cell_type": "code",
   "execution_count": null,
   "metadata": {},
   "outputs": [],
   "source": [
    "import pickle as pkl\n",
    "\n",
    "from sklearn.metrics import mean_absolute_error, mean_squared_error\n",
    "from tensorflow.keras.models import load_model\n",
    "\n",
    "# Get best model\n",
    "best_model_id = min(models_rmse, key=models_rmse.get)\n",
    "\n",
    "# Load the scaler and the model\n",
    "model = load_model(f\"C:/Projetos/fp-neural-net/models/{best_model_id}.keras\")\n",
    "\n",
    "with open(f\"C:/Projetos/fp-neural-net/models/scaler_{best_model_id}.pkl\", \"rb\") as f:\n",
    "    scaler = pkl.load(f)\n",
    "\n",
    "# Get 1-butanol + FAEE data and store the features and label values\n",
    "but_data = pd.read_csv(\"C:/Projetos/fp-neural-net/data/butanol_data.csv\")\n",
    "but_features = but_data.iloc[:, 1:].values\n",
    "but_label = but_data.iloc[:, 0].values\n",
    "\n",
    "# Predict values\n",
    "but_scaled_features = scaler.transform(but_features)\n",
    "but_y_pred = model.predict(but_scaled_features)\n",
    "\n",
    "# Evaluate model metrics\n",
    "but_rmse = np.sqrt(mean_squared_error(but_label, but_y_pred))\n",
    "but_mae = mean_absolute_error(but_label, but_y_pred)\n",
    "\n",
    "print(f\"Butanol + FAEE RMSE = {round(but_rmse, 3)}\")\n",
    "print(f\"Butanol + FAEE MAE = {round(but_mae, 3)}\")"
   ]
  },
  {
   "cell_type": "markdown",
   "metadata": {},
   "source": [
    "Ethyl decanoate + ethyl stereate evaluation"
   ]
  },
  {
   "cell_type": "code",
   "execution_count": null,
   "metadata": {},
   "outputs": [],
   "source": [
    "# Get ethyl decanoate + ethyl stereate data and store the features and label values\n",
    "faee_data = pd.read_csv(\"C:/Projetos/fp-neural-net/data/faee_data.csv\")\n",
    "faee_features = faee_data.iloc[:, 1:].values\n",
    "faee_label = faee_data.iloc[:, 0].values\n",
    "\n",
    "# Predict values\n",
    "faee_scaled_features = scaler.transform(faee_features)\n",
    "faee_y_pred = model.predict(faee_scaled_features)\n",
    "\n",
    "# Evaluate model metrics\n",
    "faee_rmse = np.sqrt(mean_squared_error(faee_label, faee_y_pred))\n",
    "faee_mae = mean_absolute_error(faee_label, faee_y_pred)\n",
    "\n",
    "print(f\"Ethyl decanoate + Ethyl stereate RMSE = {round(faee_rmse, 3)}\")\n",
    "print(f\"Ethyl decanoate + Ethyl stereate MAE = {round(faee_mae, 3)}\")"
   ]
  },
  {
   "cell_type": "markdown",
   "metadata": {},
   "source": [
    "Biodiesel evaluation"
   ]
  },
  {
   "cell_type": "code",
   "execution_count": null,
   "metadata": {},
   "outputs": [],
   "source": [
    "# Get biodiesel data and store the features and label values\n",
    "bio_data = pd.read_csv(\"C:/Projetos/fp-neural-net/data/biodiesel_data.csv\")\n",
    "bio_features = bio_data.iloc[:, 1:].values\n",
    "bio_label = bio_data.iloc[:, 0].values\n",
    "\n",
    "# Predict values\n",
    "bio_scaled_features = scaler.transform(bio_features)\n",
    "bio_y_pred = model.predict(bio_scaled_features)\n",
    "\n",
    "# Evaluate model metrics\n",
    "bio_rmse = np.sqrt(mean_squared_error(bio_label, bio_y_pred))\n",
    "bio_mae = mean_absolute_error(bio_label, bio_y_pred)\n",
    "\n",
    "print(f\"Biodiesel RMSE = {round(bio_rmse, 3)}\")\n",
    "print(f\"Biodiesel MAE = {round(bio_mae, 3)}\")"
   ]
  }
 ],
 "metadata": {
  "kernelspec": {
   "display_name": "Python 3",
   "language": "python",
   "name": "python3"
  },
  "language_info": {
   "codemirror_mode": {
    "name": "ipython",
    "version": 3
   },
   "file_extension": ".py",
   "mimetype": "text/x-python",
   "name": "python",
   "nbconvert_exporter": "python",
   "pygments_lexer": "ipython3",
   "version": "3.10.11"
  }
 },
 "nbformat": 4,
 "nbformat_minor": 2
}
